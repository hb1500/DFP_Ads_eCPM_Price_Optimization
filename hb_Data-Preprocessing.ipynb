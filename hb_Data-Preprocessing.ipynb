{
 "cells": [
  {
   "cell_type": "markdown",
   "metadata": {},
   "source": [
    "### Notice: \n",
    "This is the notebook to share my data processing process with team containes partial imtermeidate results. Data is not open to public and cannot be shared.  "
   ]
  },
  {
   "cell_type": "code",
   "execution_count": 127,
   "metadata": {},
   "outputs": [],
   "source": [
    "import numpy as np\n",
    "import pandas as pd\n",
    "import matplotlib.pyplot as plt\n",
    "from datetime import datetime\n",
    "from sklearn import preprocessing\n",
    "from sklearn.preprocessing import OneHotEncoder\n",
    "from IPython.display import HTML"
   ]
  },
  {
   "cell_type": "markdown",
   "metadata": {},
   "source": [
    "### Data Inital Processing"
   ]
  },
  {
   "cell_type": "code",
   "execution_count": 2,
   "metadata": {},
   "outputs": [
    {
     "name": "stderr",
     "output_type": "stream",
     "text": [
      "/anaconda3/lib/python3.6/site-packages/IPython/core/interactiveshell.py:2785: DtypeWarning: Columns (7,8,11) have mixed types. Specify dtype option on import or set low_memory=False.\n",
      "  interactivity=interactivity, compiler=compiler, result=result)\n"
     ]
    }
   ],
   "source": [
    "ads = pd.read_csv('merged.csv')"
   ]
  },
  {
   "cell_type": "code",
   "execution_count": 3,
   "metadata": {},
   "outputs": [
    {
     "data": {
      "text/html": [
       "<div>\n",
       "<style scoped>\n",
       "    .dataframe tbody tr th:only-of-type {\n",
       "        vertical-align: middle;\n",
       "    }\n",
       "\n",
       "    .dataframe tbody tr th {\n",
       "        vertical-align: top;\n",
       "    }\n",
       "\n",
       "    .dataframe thead th {\n",
       "        text-align: right;\n",
       "    }\n",
       "</style>\n",
       "<table border=\"1\" class=\"dataframe\">\n",
       "  <thead>\n",
       "    <tr style=\"text-align: right;\">\n",
       "      <th></th>\n",
       "      <th>Ad Types</th>\n",
       "      <th>Ad locations</th>\n",
       "      <th>Ad sources</th>\n",
       "      <th>Advertiser verticals</th>\n",
       "      <th>DFP Ad Units</th>\n",
       "      <th>Creative sizes</th>\n",
       "      <th>Days</th>\n",
       "      <th>Ad requests</th>\n",
       "      <th>Matched requests</th>\n",
       "      <th>CPC ($)</th>\n",
       "      <th>Estimated revenue ($)</th>\n",
       "      <th>Ad impressions</th>\n",
       "      <th>Ad eCPM ($)</th>\n",
       "    </tr>\n",
       "  </thead>\n",
       "  <tbody>\n",
       "    <tr>\n",
       "      <th>0</th>\n",
       "      <td>(Unmatched ad requests)</td>\n",
       "      <td>Above the fold</td>\n",
       "      <td>(Unmatched ad requests)</td>\n",
       "      <td>(unknown)</td>\n",
       "      <td>(No inventory unit)</td>\n",
       "      <td>(Unmatched ad requests)</td>\n",
       "      <td>10/1/17</td>\n",
       "      <td>2,541</td>\n",
       "      <td>0</td>\n",
       "      <td>0.0</td>\n",
       "      <td>0.0</td>\n",
       "      <td>0</td>\n",
       "      <td>0.0</td>\n",
       "    </tr>\n",
       "    <tr>\n",
       "      <th>1</th>\n",
       "      <td>(Unmatched ad requests)</td>\n",
       "      <td>Above the fold</td>\n",
       "      <td>(Unmatched ad requests)</td>\n",
       "      <td>(unknown)</td>\n",
       "      <td>(No inventory unit)</td>\n",
       "      <td>(Unmatched ad requests)</td>\n",
       "      <td>10/2/17</td>\n",
       "      <td>685</td>\n",
       "      <td>0</td>\n",
       "      <td>0.0</td>\n",
       "      <td>0.0</td>\n",
       "      <td>0</td>\n",
       "      <td>0.0</td>\n",
       "    </tr>\n",
       "    <tr>\n",
       "      <th>2</th>\n",
       "      <td>(Unmatched ad requests)</td>\n",
       "      <td>Above the fold</td>\n",
       "      <td>(Unmatched ad requests)</td>\n",
       "      <td>(unknown)</td>\n",
       "      <td>(No inventory unit)</td>\n",
       "      <td>(Unmatched ad requests)</td>\n",
       "      <td>10/3/17</td>\n",
       "      <td>757</td>\n",
       "      <td>0</td>\n",
       "      <td>0.0</td>\n",
       "      <td>0.0</td>\n",
       "      <td>0</td>\n",
       "      <td>0.0</td>\n",
       "    </tr>\n",
       "    <tr>\n",
       "      <th>3</th>\n",
       "      <td>(Unmatched ad requests)</td>\n",
       "      <td>Above the fold</td>\n",
       "      <td>(Unmatched ad requests)</td>\n",
       "      <td>(unknown)</td>\n",
       "      <td>(No inventory unit)</td>\n",
       "      <td>(Unmatched ad requests)</td>\n",
       "      <td>10/4/17</td>\n",
       "      <td>310</td>\n",
       "      <td>0</td>\n",
       "      <td>0.0</td>\n",
       "      <td>0.0</td>\n",
       "      <td>0</td>\n",
       "      <td>0.0</td>\n",
       "    </tr>\n",
       "    <tr>\n",
       "      <th>4</th>\n",
       "      <td>(Unmatched ad requests)</td>\n",
       "      <td>Above the fold</td>\n",
       "      <td>(Unmatched ad requests)</td>\n",
       "      <td>(unknown)</td>\n",
       "      <td>(No inventory unit)</td>\n",
       "      <td>(Unmatched ad requests)</td>\n",
       "      <td>10/5/17</td>\n",
       "      <td>2,024</td>\n",
       "      <td>0</td>\n",
       "      <td>0.0</td>\n",
       "      <td>0.0</td>\n",
       "      <td>0</td>\n",
       "      <td>0.0</td>\n",
       "    </tr>\n",
       "  </tbody>\n",
       "</table>\n",
       "</div>"
      ],
      "text/plain": [
       "                  Ad Types    Ad locations               Ad sources  \\\n",
       "0  (Unmatched ad requests)  Above the fold  (Unmatched ad requests)   \n",
       "1  (Unmatched ad requests)  Above the fold  (Unmatched ad requests)   \n",
       "2  (Unmatched ad requests)  Above the fold  (Unmatched ad requests)   \n",
       "3  (Unmatched ad requests)  Above the fold  (Unmatched ad requests)   \n",
       "4  (Unmatched ad requests)  Above the fold  (Unmatched ad requests)   \n",
       "\n",
       "  Advertiser verticals         DFP Ad Units           Creative sizes     Days  \\\n",
       "0            (unknown)  (No inventory unit)  (Unmatched ad requests)  10/1/17   \n",
       "1            (unknown)  (No inventory unit)  (Unmatched ad requests)  10/2/17   \n",
       "2            (unknown)  (No inventory unit)  (Unmatched ad requests)  10/3/17   \n",
       "3            (unknown)  (No inventory unit)  (Unmatched ad requests)  10/4/17   \n",
       "4            (unknown)  (No inventory unit)  (Unmatched ad requests)  10/5/17   \n",
       "\n",
       "  Ad requests Matched requests  CPC ($)  Estimated revenue ($) Ad impressions  \\\n",
       "0       2,541                0      0.0                    0.0              0   \n",
       "1         685                0      0.0                    0.0              0   \n",
       "2         757                0      0.0                    0.0              0   \n",
       "3         310                0      0.0                    0.0              0   \n",
       "4       2,024                0      0.0                    0.0              0   \n",
       "\n",
       "   Ad eCPM ($)  \n",
       "0          0.0  \n",
       "1          0.0  \n",
       "2          0.0  \n",
       "3          0.0  \n",
       "4          0.0  "
      ]
     },
     "execution_count": 3,
     "metadata": {},
     "output_type": "execute_result"
    }
   ],
   "source": [
    "ads.head()"
   ]
  },
  {
   "cell_type": "markdown",
   "metadata": {},
   "source": [
    "Convert Date format:"
   ]
  },
  {
   "cell_type": "code",
   "execution_count": 4,
   "metadata": {},
   "outputs": [],
   "source": [
    "def convert_date(df):\n",
    "    '''\n",
    "    input: df -- dataframe\n",
    "    output: datetime format column named 'Days_'\n",
    "    '''\n",
    "    df['Days_'] = df['Days'].apply(lambda x: datetime.strptime(x, '%m/%d/%y'))\n",
    "    return df['Days_']"
   ]
  },
  {
   "cell_type": "code",
   "execution_count": null,
   "metadata": {},
   "outputs": [],
   "source": [
    "ads['Days'] = convert_date(ads)"
   ]
  },
  {
   "cell_type": "markdown",
   "metadata": {},
   "source": [
    "Convert dtypes into numeric (for some):"
   ]
  },
  {
   "cell_type": "code",
   "execution_count": 134,
   "metadata": {},
   "outputs": [
    {
     "data": {
      "text/plain": [
       "Ad Types                         object\n",
       "Ad locations                     object\n",
       "Ad sources                       object\n",
       "Advertiser verticals             object\n",
       "Creative sizes                   object\n",
       "Ad requests                       int64\n",
       "Matched requests                  int64\n",
       "CPC ($)                         float64\n",
       "Estimated revenue ($)           float64\n",
       "Ad impressions                    int64\n",
       "Ad eCPM ($)                     float64\n",
       "Days_                    datetime64[ns]\n",
       "AdU_mtch/no                      object\n",
       "AdU_chanell                      object\n",
       "AdU_language                     object\n",
       "AdU_seg                          object\n",
       "AdU_where                        object\n",
       "dtype: object"
      ]
     },
     "execution_count": 134,
     "metadata": {},
     "output_type": "execute_result"
    }
   ],
   "source": [
    "ads.dtypes"
   ]
  },
  {
   "cell_type": "code",
   "execution_count": 53,
   "metadata": {},
   "outputs": [],
   "source": [
    "def convet_str2int(df,v):\n",
    "    '''\n",
    "    input: \n",
    "        df -- dataframe \n",
    "        v -- 'variable names'\n",
    "    output: a numerical column, replace the original \n",
    "    '''\n",
    "    return df[v].apply(lambda x: int(str(x).replace(',','')))     "
   ]
  },
  {
   "cell_type": "code",
   "execution_count": 54,
   "metadata": {},
   "outputs": [],
   "source": [
    "ads['Matched requests'] = convet_str2int(ads,'Matched requests')\n",
    "ads['Ad requests'] = convet_str2int(ads,'Ad requests')\n",
    "ads['Ad impressions'] = convet_str2int(ads,'Ad impressions')"
   ]
  },
  {
   "cell_type": "markdown",
   "metadata": {},
   "source": [
    "Deal with 'DFP Ad Units':"
   ]
  },
  {
   "cell_type": "code",
   "execution_count": 64,
   "metadata": {},
   "outputs": [],
   "source": [
    "AdU_cols = ads['DFP Ad Units'].str.split(' » ', expand=True).rename(columns = {0:'AdU_mtch/no', 1:'AdU_chanell', 2:'AdU_language', 3:'AdU_seg',4:'AdU_where'})\n",
    "ads = pd.concat([ads, AdU_cols], axis=1)\n",
    "del ads['DFP Ad Units']"
   ]
  },
  {
   "cell_type": "code",
   "execution_count": 132,
   "metadata": {},
   "outputs": [
    {
     "data": {
      "text/html": [
       "<div>\n",
       "<style scoped>\n",
       "    .dataframe tbody tr th:only-of-type {\n",
       "        vertical-align: middle;\n",
       "    }\n",
       "\n",
       "    .dataframe tbody tr th {\n",
       "        vertical-align: top;\n",
       "    }\n",
       "\n",
       "    .dataframe thead th {\n",
       "        text-align: right;\n",
       "    }\n",
       "</style>\n",
       "<table border=\"1\" class=\"dataframe\">\n",
       "  <thead>\n",
       "    <tr style=\"text-align: right;\">\n",
       "      <th></th>\n",
       "      <th>Ad Types</th>\n",
       "      <th>Ad locations</th>\n",
       "      <th>Ad sources</th>\n",
       "      <th>Advertiser verticals</th>\n",
       "      <th>Creative sizes</th>\n",
       "      <th>Ad requests</th>\n",
       "      <th>Matched requests</th>\n",
       "      <th>CPC ($)</th>\n",
       "      <th>Estimated revenue ($)</th>\n",
       "      <th>Ad impressions</th>\n",
       "      <th>Ad eCPM ($)</th>\n",
       "      <th>Days_</th>\n",
       "      <th>AdU_mtch/no</th>\n",
       "      <th>AdU_chanell</th>\n",
       "      <th>AdU_language</th>\n",
       "      <th>AdU_seg</th>\n",
       "      <th>AdU_where</th>\n",
       "    </tr>\n",
       "  </thead>\n",
       "  <tbody>\n",
       "    <tr>\n",
       "      <th>26964766</th>\n",
       "      <td>Video</td>\n",
       "      <td>Unknown</td>\n",
       "      <td>Open Auction</td>\n",
       "      <td>Travel &amp; Tourism</td>\n",
       "      <td>300x250</td>\n",
       "      <td>15</td>\n",
       "      <td>15</td>\n",
       "      <td>0.0</td>\n",
       "      <td>0.0</td>\n",
       "      <td>3</td>\n",
       "      <td>0.75</td>\n",
       "      <td>2018-05-14</td>\n",
       "      <td>6556</td>\n",
       "      <td>tasty.amphtml</td>\n",
       "      <td>en</td>\n",
       "      <td>recipe</td>\n",
       "      <td>promo2-bp</td>\n",
       "    </tr>\n",
       "    <tr>\n",
       "      <th>26964767</th>\n",
       "      <td>Video</td>\n",
       "      <td>Unknown</td>\n",
       "      <td>Open Auction</td>\n",
       "      <td>Travel &amp; Tourism</td>\n",
       "      <td>300x250</td>\n",
       "      <td>4</td>\n",
       "      <td>4</td>\n",
       "      <td>0.0</td>\n",
       "      <td>0.0</td>\n",
       "      <td>1</td>\n",
       "      <td>0.76</td>\n",
       "      <td>2018-05-15</td>\n",
       "      <td>6556</td>\n",
       "      <td>tasty.amphtml</td>\n",
       "      <td>en</td>\n",
       "      <td>recipe</td>\n",
       "      <td>promo2-bp</td>\n",
       "    </tr>\n",
       "    <tr>\n",
       "      <th>26964768</th>\n",
       "      <td>Video</td>\n",
       "      <td>Unknown</td>\n",
       "      <td>Open Auction</td>\n",
       "      <td>Travel &amp; Tourism</td>\n",
       "      <td>300x250</td>\n",
       "      <td>11</td>\n",
       "      <td>11</td>\n",
       "      <td>0.0</td>\n",
       "      <td>0.0</td>\n",
       "      <td>1</td>\n",
       "      <td>0.76</td>\n",
       "      <td>2018-05-16</td>\n",
       "      <td>6556</td>\n",
       "      <td>tasty.amphtml</td>\n",
       "      <td>en</td>\n",
       "      <td>recipe</td>\n",
       "      <td>promo2-bp</td>\n",
       "    </tr>\n",
       "  </tbody>\n",
       "</table>\n",
       "</div>"
      ],
      "text/plain": [
       "         Ad Types Ad locations    Ad sources Advertiser verticals  \\\n",
       "26964766    Video      Unknown  Open Auction     Travel & Tourism   \n",
       "26964767    Video      Unknown  Open Auction     Travel & Tourism   \n",
       "26964768    Video      Unknown  Open Auction     Travel & Tourism   \n",
       "\n",
       "         Creative sizes  Ad requests  Matched requests  CPC ($)  \\\n",
       "26964766        300x250           15                15      0.0   \n",
       "26964767        300x250            4                 4      0.0   \n",
       "26964768        300x250           11                11      0.0   \n",
       "\n",
       "          Estimated revenue ($)  Ad impressions  Ad eCPM ($)      Days_  \\\n",
       "26964766                    0.0               3         0.75 2018-05-14   \n",
       "26964767                    0.0               1         0.76 2018-05-15   \n",
       "26964768                    0.0               1         0.76 2018-05-16   \n",
       "\n",
       "         AdU_mtch/no    AdU_chanell AdU_language AdU_seg  AdU_where  \n",
       "26964766        6556  tasty.amphtml           en  recipe  promo2-bp  \n",
       "26964767        6556  tasty.amphtml           en  recipe  promo2-bp  \n",
       "26964768        6556  tasty.amphtml           en  recipe  promo2-bp  "
      ]
     },
     "execution_count": 132,
     "metadata": {},
     "output_type": "execute_result"
    }
   ],
   "source": [
    "ads.tail(3)"
   ]
  },
  {
   "cell_type": "code",
   "execution_count": 122,
   "metadata": {
    "scrolled": false
   },
   "outputs": [
    {
     "data": {
      "text/plain": [
       "promo-inline1            2621099\n",
       "promo-inline2            2315114\n",
       "promo-inline3            2122393\n",
       "promo-inline4            1906131\n",
       "promo1-bp                1707813\n",
       "promo5-bp                1665125\n",
       "promo-inline5            1504236\n",
       "bigstory-bp              1494231\n",
       "promo-bottom1            1421975\n",
       "promo4-bp                 701412\n",
       "thumb-sidebar3            656788\n",
       "promo2-bp                 649707\n",
       "thumb-sidebar2            629453\n",
       "promo-bottom2             624457\n",
       "quiz_ad                   483794\n",
       "awareness                 403869\n",
       "thumb-sidebar1            348404\n",
       "promo1                    333573\n",
       "promo-infinite            288517\n",
       "promo-bottom3             276854\n",
       "promo-inline-infinite     249782\n",
       "promo3                    223902\n",
       "promo1-wide               216690\n",
       "promo-wide-infinite       214018\n",
       "bigstory                  195396\n",
       "promo-inline6             183458\n",
       "promo3-bp                 181270\n",
       "promo5                    172390\n",
       "promo2-wide               150984\n",
       "promo-inline7             143276\n",
       "                          ...   \n",
       "story3                     15136\n",
       "story4                     14592\n",
       "story5                     13625\n",
       "story6                     12696\n",
       "story7                     12196\n",
       "story8                     11835\n",
       "story9                     11331\n",
       "story10                    10943\n",
       "story11                    10165\n",
       "story12                     9543\n",
       "story13                     9327\n",
       "story14                     8729\n",
       "story15                     8666\n",
       "story16                     8286\n",
       "story17                     7445\n",
       "story18                     6986\n",
       "story19                     6689\n",
       "story20                     6337\n",
       "story21                     5855\n",
       "story22                     5510\n",
       "story23                     5335\n",
       "videostory1                   14\n",
       "story24                        2\n",
       "story25                        2\n",
       "story-bpage1                   2\n",
       "story28                        1\n",
       "story26                        1\n",
       "story29                        1\n",
       "wide-promo                     1\n",
       "story27                        1\n",
       "Name: AdU_where, Length: 75, dtype: int64"
      ]
     },
     "execution_count": 122,
     "metadata": {},
     "output_type": "execute_result"
    }
   ],
   "source": [
    "ads['AdU_where'].value_counts()"
   ]
  },
  {
   "cell_type": "markdown",
   "metadata": {},
   "source": [
    "Slice tasty data: shape = (91811, 17)"
   ]
  },
  {
   "cell_type": "code",
   "execution_count": 79,
   "metadata": {},
   "outputs": [],
   "source": [
    "ads_tasty = ads[ads['AdU_chanell'].str.contains(\"tasty\")==True]"
   ]
  },
  {
   "cell_type": "code",
   "execution_count": 82,
   "metadata": {},
   "outputs": [],
   "source": [
    "ads_tasty.to_csv('ads_tasty')"
   ]
  },
  {
   "cell_type": "code",
   "execution_count": null,
   "metadata": {},
   "outputs": [],
   "source": []
  },
  {
   "cell_type": "markdown",
   "metadata": {},
   "source": [
    "### Some explorations"
   ]
  },
  {
   "cell_type": "markdown",
   "metadata": {},
   "source": [
    "#### Variable Facts:\n",
    "\n",
    "Ad sources: \n",
    "\n",
    "    Open Auction               26126682 \n",
    "    (Unmatched ad requests)      838087\n",
    "Ad locations: \n",
    "\n",
    "    Unknown           17420188\n",
    "    Below the fold     5384884\n",
    "    Above the fold     4159697\n",
    "    \n",
    "Creative sizes:\n",
    "\n",
    "    300x250                    23166780\n",
    "    300x600                     1108924\n",
    "    970x90                      1072721\n",
    "    (Unmatched ad requests)      838087\n",
    "    970x250                      608623\n",
    "    300x300                       63040\n",
    "    320x50                        46316\n",
    "    Native                        28589\n",
    "    Video/Overlay                 27978\n",
    "    300x60                         2152\n",
    "    ...\n",
    " \n",
    "Ad Types:\n",
    "\n",
    "    Rich media                 9306481\n",
    "    Image                      7095585\n",
    "    Animated image             4465050\n",
    "    Text                       3273582\n",
    "    Auto display               1337865\n",
    "    (Unmatched ad requests)     838086\n",
    "    Video                       334683\n",
    "    Flash                       312402\n",
    "    Audio                         1034\n",
    "    kUnmatched ad requests)          1\n",
    "\n",
    "Advertiser verticals:\n",
    "\n",
    "    Apparel                             1720699\n",
    "    Business & Industrial               1545220\n",
    "    Travel & Tourism                    1475986\n",
    "    Finance                             1448224\n",
    "    Home & Garden                       1440095\n",
    "    Internet & Telecom                  1419802\n",
    "    Arts & Entertainment                1413595\n",
    "    Jobs & Education                    1404632\n",
    "    Beauty & Personal Care              1338240\n",
    "    Hobbies, Games & Leisure            1311891\n",
    "    Computers & Consumer Electronics    1294833\n",
    "    (unknown)                           1288819\n",
    "    Autos & Vehicles                    1271435\n",
    "    Real Estate                         1180275\n",
    "    Health                              1155798\n",
    "    Food & Groceries                    1141705\n",
    "    Sports & Fitness                    1115239\n",
    "    Family & Community                  1111387\n",
    "    Dining & Nightlife                   961319\n",
    "    Occasions & Gifts                    890264\n",
    "    Law & Government                     666377\n",
    "    News, Books & Publications           368757\n",
    "    Mobile Apps                             177"
   ]
  },
  {
   "cell_type": "code",
   "execution_count": 105,
   "metadata": {},
   "outputs": [],
   "source": [
    "ads_mtch = ads[ads['Matched requests']!= 0]"
   ]
  },
  {
   "cell_type": "code",
   "execution_count": 86,
   "metadata": {},
   "outputs": [
    {
     "data": {
      "image/png": "[encoded data removed]",
      "text/plain": [
       "<Figure size 432x288 with 1 Axes>"
      ]
     },
     "metadata": {},
     "output_type": "display_data"
    }
   ],
   "source": [
    "colors = (0,0,0)\n",
    "area = np.pi*3\n",
    "plt.scatter(np.log(ads_mtch['Matched requests']), ads_mtch['Ad eCPM ($)'], s=area, c=colors, alpha=0.5)\n",
    "plt.title('')\n",
    "plt.xlabel('Matched requests')\n",
    "plt.ylabel('Ad eCPM ($)')\n",
    "plt.show()"
   ]
  },
  {
   "cell_type": "code",
   "execution_count": 96,
   "metadata": {},
   "outputs": [
    {
     "name": "stderr",
     "output_type": "stream",
     "text": [
      "/anaconda3/lib/python3.6/site-packages/ipykernel_launcher.py:2: RuntimeWarning: divide by zero encountered in log\n",
      "  \n"
     ]
    },
    {
     "data": {
      "image/png": "[encoded data removed]",
      "text/plain": [
       "<Figure size 432x288 with 1 Axes>"
      ]
     },
     "metadata": {},
     "output_type": "display_data"
    }
   ],
   "source": [
    "area = np.pi\n",
    "plt.scatter(np.log(ads_tasty['Matched requests']), ads_tasty['Ad eCPM ($)'], s=area,  alpha=1)\n",
    "plt.title('Tasty')\n",
    "plt.xlabel('Matched requests')\n",
    "plt.ylabel('Ad eCPM ($)')\n",
    "plt.show()"
   ]
  },
  {
   "cell_type": "markdown",
   "metadata": {},
   "source": [
    "look at seasonality of Ad eCPM:"
   ]
  },
  {
   "cell_type": "code",
   "execution_count": 115,
   "metadata": {},
   "outputs": [],
   "source": [
    "grouped = ads_mtch.groupby(['Days_'])"
   ]
  },
  {
   "cell_type": "code",
   "execution_count": 116,
   "metadata": {},
   "outputs": [],
   "source": [
    "ave_eCPM = grouped.agg({'Ad eCPM ($)' : np.mean}).reset_index()"
   ]
  },
  {
   "cell_type": "code",
   "execution_count": 121,
   "metadata": {},
   "outputs": [
    {
     "data": {
      "image/png": "[encoded data removed]",
      "text/plain": [
       "<Figure size 432x288 with 1 Axes>"
      ]
     },
     "metadata": {},
     "output_type": "display_data"
    }
   ],
   "source": [
    "fig, ax = plt.subplots()\n",
    "ax.plot_date(ave_eCPM['Days_'], ave_eCPM['Ad eCPM ($)'], 'b-')\n",
    "plt.xlabel('time')\n",
    "plt.ylabel('ave-eCPM/per')\n",
    "plt.show()"
   ]
  },
  {
   "cell_type": "code",
   "execution_count": null,
   "metadata": {},
   "outputs": [],
   "source": [
    "le = preprocessing.LabelEncoder()\n",
    "le.fit(adx_march_matched_addcols['Ad sources'])\n",
    "adx_march_matched_addcols['Ad_src'] = le.transform(adx_march_matched_addcols['Ad sources'])"
   ]
  }
 ],
 "metadata": {
  "kernelspec": {
   "display_name": "Python 3",
   "language": "python",
   "name": "python3"
  },
  "language_info": {
   "codemirror_mode": {
    "name": "ipython",
    "version": 3
   },
   "file_extension": ".py",
   "mimetype": "text/x-python",
   "name": "python",
   "nbconvert_exporter": "python",
   "pygments_lexer": "ipython3",
   "version": "3.6.5"
  }
 },
 "nbformat": 4,
 "nbformat_minor": 2
}
